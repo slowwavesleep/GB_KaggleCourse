{
 "cells": [
  {
   "cell_type": "markdown",
   "metadata": {},
   "source": [
    "`Задание 0` <br> Выбрать любую модель машинного обучения и зафиксировать любой тип валидации. Обучить базовую модель и зафиксировать базовое качество модели. В каждом следующем задании нужно будет обучить выбранную модель и оценивать ее качество на зафиксированной схеме валидации. После каждого задания, требуется сделать вывод о достигаемом качестве модели, по сравнению с качестом из предыдущего шага."
   ]
  },
  {
   "cell_type": "code",
   "execution_count": 1,
   "metadata": {},
   "outputs": [],
   "source": [
    "import pandas as pd\n",
    "import numpy as np\n",
    "import time\n",
    "import datetime\n",
    "from sklearn.decomposition import PCA\n",
    "from sklearn.preprocessing import MinMaxScaler\n",
    "from sklearn.inspection import permutation_importance\n",
    "\n",
    "import xgboost as xgb\n",
    "from sklearn.model_selection import train_test_split"
   ]
  },
  {
   "cell_type": "code",
   "execution_count": 2,
   "metadata": {},
   "outputs": [],
   "source": [
    "data = pd.read_csv('/mnt/f/data/kg/HW2/assignment_train.csv')"
   ]
  },
  {
   "cell_type": "code",
   "execution_count": 3,
   "metadata": {},
   "outputs": [],
   "source": [
    "x_train, x_valid = train_test_split(data.drop([\"isFraud\"], axis=1), train_size=0.7, random_state=1)\n",
    "y_train, y_valid = train_test_split(data[\"isFraud\"], train_size=0.7, random_state=1)"
   ]
  },
  {
   "cell_type": "code",
   "execution_count": 4,
   "metadata": {},
   "outputs": [],
   "source": [
    "xgb_params = {\n",
    "    \"booster\": \"gbtree\",\n",
    "    \"objective\": \"binary:logistic\",\n",
    "    \"eval_metric\": \"auc\",\n",
    "    \"learning_rate\": 0.1,\n",
    "    \"n_estimators\": 1000,\n",
    "    \"nthread\": 6,\n",
    "    \"seed\": 27\n",
    "}"
   ]
  },
  {
   "cell_type": "code",
   "execution_count": 5,
   "metadata": {},
   "outputs": [],
   "source": [
    "numeric = data.select_dtypes(exclude=\"object\").drop(\"isFraud\", axis=1).columns"
   ]
  },
  {
   "cell_type": "code",
   "execution_count": 6,
   "metadata": {},
   "outputs": [
    {
     "name": "stdout",
     "output_type": "stream",
     "text": [
      "[15:57:42] WARNING: ../src/learner.cc:516: \n",
      "Parameters: { n_estimators } might not be used.\n",
      "\n",
      "  This may not be accurate due to some parameters are only used in language bindings but\n",
      "  passed down to XGBoost core.  Or some parameters are not used but slip through this\n",
      "  verification. Please open an issue if you find above cases.\n",
      "\n",
      "\n",
      "[0]\ttrain-auc:0.81297\tvalid-auc:0.78768\n",
      "Multiple eval metrics have been passed: 'valid-auc' will be used for early stopping.\n",
      "\n",
      "Will train until valid-auc hasn't improved in 20 rounds.\n",
      "[10]\ttrain-auc:0.84450\tvalid-auc:0.82188\n",
      "[20]\ttrain-auc:0.87890\tvalid-auc:0.85383\n",
      "[30]\ttrain-auc:0.90896\tvalid-auc:0.88494\n",
      "[40]\ttrain-auc:0.93285\tvalid-auc:0.89729\n",
      "[50]\ttrain-auc:0.95129\tvalid-auc:0.90514\n",
      "[60]\ttrain-auc:0.96291\tvalid-auc:0.90886\n",
      "[70]\ttrain-auc:0.96957\tvalid-auc:0.91265\n",
      "[80]\ttrain-auc:0.97298\tvalid-auc:0.91491\n",
      "[90]\ttrain-auc:0.97556\tvalid-auc:0.91652\n",
      "[100]\ttrain-auc:0.97835\tvalid-auc:0.91765\n",
      "[110]\ttrain-auc:0.98061\tvalid-auc:0.91899\n",
      "[120]\ttrain-auc:0.98247\tvalid-auc:0.92032\n",
      "[130]\ttrain-auc:0.98386\tvalid-auc:0.92168\n",
      "[140]\ttrain-auc:0.98542\tvalid-auc:0.92228\n",
      "[150]\ttrain-auc:0.98749\tvalid-auc:0.92332\n",
      "[160]\ttrain-auc:0.98839\tvalid-auc:0.92430\n",
      "[170]\ttrain-auc:0.98930\tvalid-auc:0.92471\n",
      "[180]\ttrain-auc:0.99027\tvalid-auc:0.92470\n",
      "[190]\ttrain-auc:0.99166\tvalid-auc:0.92539\n",
      "[200]\ttrain-auc:0.99256\tvalid-auc:0.92539\n",
      "[210]\ttrain-auc:0.99343\tvalid-auc:0.92470\n",
      "[220]\ttrain-auc:0.99404\tvalid-auc:0.92524\n",
      "[230]\ttrain-auc:0.99461\tvalid-auc:0.92560\n",
      "[240]\ttrain-auc:0.99505\tvalid-auc:0.92591\n",
      "[250]\ttrain-auc:0.99596\tvalid-auc:0.92581\n",
      "[260]\ttrain-auc:0.99641\tvalid-auc:0.92648\n",
      "[270]\ttrain-auc:0.99674\tvalid-auc:0.92679\n",
      "[280]\ttrain-auc:0.99692\tvalid-auc:0.92694\n",
      "[290]\ttrain-auc:0.99720\tvalid-auc:0.92705\n",
      "[300]\ttrain-auc:0.99764\tvalid-auc:0.92649\n",
      "[310]\ttrain-auc:0.99777\tvalid-auc:0.92651\n",
      "Stopping. Best iteration:\n",
      "[290]\ttrain-auc:0.99720\tvalid-auc:0.92705\n",
      "\n"
     ]
    }
   ],
   "source": [
    "dtrain = xgb.DMatrix(x_train[numeric], y_train)\n",
    "dvalid = xgb.DMatrix(x_valid[numeric], y_valid)\n",
    "\n",
    "model = xgb.train(\n",
    "    dtrain=dtrain,\n",
    "    params=xgb_params,\n",
    "    num_boost_round=500,\n",
    "    evals=[(dtrain, \"train\"), (dvalid, \"valid\")],\n",
    "    early_stopping_rounds=20,\n",
    "    verbose_eval=10,\n",
    ")"
   ]
  },
  {
   "cell_type": "markdown",
   "metadata": {},
   "source": [
    "`Задание 1` <br> Признак TransactionDT - это смещение в секундах относительно базовой даты. Базовая дата - 2017-12-01, преобразовать признак TransactionDT в datetime, прибавив к базовой дате исходное значение признака. Из полученного признака выделить год, месяц, день недели, час, день.\n"
   ]
  },
  {
   "cell_type": "code",
   "execution_count": 7,
   "metadata": {},
   "outputs": [],
   "source": [
    "BASE_DATE_UNIX = time.mktime(datetime.date(2017, 12, 1).timetuple())"
   ]
  },
  {
   "cell_type": "code",
   "execution_count": 8,
   "metadata": {},
   "outputs": [],
   "source": [
    "data['NewTransactionDT'] = pd.to_datetime(data.TransactionDT + BASE_DATE_UNIX, unit='s')"
   ]
  },
  {
   "cell_type": "code",
   "execution_count": 9,
   "metadata": {},
   "outputs": [],
   "source": [
    "data['hour'] = data.NewTransactionDT.dt.hour\n",
    "data['day'] = data.NewTransactionDT.dt.day\n",
    "data['month'] = data.NewTransactionDT.dt.month\n",
    "data['year'] = data.NewTransactionDT.dt.year\n",
    "data['weekday'] = data.NewTransactionDT.dt.weekday"
   ]
  },
  {
   "cell_type": "code",
   "execution_count": 10,
   "metadata": {},
   "outputs": [],
   "source": [
    "ex1 = numeric.tolist() + ['hour', 'day', 'month', 'year', 'weekday']"
   ]
  },
  {
   "cell_type": "code",
   "execution_count": 11,
   "metadata": {},
   "outputs": [
    {
     "name": "stdout",
     "output_type": "stream",
     "text": [
      "[15:58:11] WARNING: ../src/learner.cc:516: \n",
      "Parameters: { n_estimators } might not be used.\n",
      "\n",
      "  This may not be accurate due to some parameters are only used in language bindings but\n",
      "  passed down to XGBoost core.  Or some parameters are not used but slip through this\n",
      "  verification. Please open an issue if you find above cases.\n",
      "\n",
      "\n",
      "[0]\ttrain-auc:0.81297\tvalid-auc:0.78768\n",
      "Multiple eval metrics have been passed: 'valid-auc' will be used for early stopping.\n",
      "\n",
      "Will train until valid-auc hasn't improved in 20 rounds.\n",
      "[10]\ttrain-auc:0.84588\tvalid-auc:0.81989\n",
      "[20]\ttrain-auc:0.87899\tvalid-auc:0.85321\n",
      "[30]\ttrain-auc:0.91059\tvalid-auc:0.88448\n",
      "[40]\ttrain-auc:0.93464\tvalid-auc:0.89513\n",
      "[50]\ttrain-auc:0.95365\tvalid-auc:0.90279\n",
      "[60]\ttrain-auc:0.96391\tvalid-auc:0.90741\n",
      "[70]\ttrain-auc:0.96942\tvalid-auc:0.91116\n",
      "[80]\ttrain-auc:0.97255\tvalid-auc:0.91461\n",
      "[90]\ttrain-auc:0.97543\tvalid-auc:0.91596\n",
      "[100]\ttrain-auc:0.97800\tvalid-auc:0.91713\n",
      "[110]\ttrain-auc:0.97965\tvalid-auc:0.91946\n",
      "[120]\ttrain-auc:0.98237\tvalid-auc:0.92105\n",
      "[130]\ttrain-auc:0.98367\tvalid-auc:0.92035\n",
      "[140]\ttrain-auc:0.98525\tvalid-auc:0.92047\n",
      "Stopping. Best iteration:\n",
      "[121]\ttrain-auc:0.98251\tvalid-auc:0.92115\n",
      "\n"
     ]
    }
   ],
   "source": [
    "x_train, x_valid = train_test_split(data.drop([\"isFraud\"], axis=1), train_size=0.7, random_state=1)\n",
    "y_train, y_valid = train_test_split(data[\"isFraud\"], train_size=0.7, random_state=1)\n",
    "\n",
    "dtrain = xgb.DMatrix(x_train[ex1], y_train)\n",
    "dvalid = xgb.DMatrix(x_valid[ex1], y_valid)\n",
    "\n",
    "model = xgb.train(\n",
    "    dtrain=dtrain,\n",
    "    params=xgb_params,\n",
    "    num_boost_round=500,\n",
    "    evals=[(dtrain, \"train\"), (dvalid, \"valid\")],\n",
    "    early_stopping_rounds=20,\n",
    "    verbose_eval=10,\n",
    ")"
   ]
  },
  {
   "cell_type": "markdown",
   "metadata": {},
   "source": [
    "Добавление данных признаков не дало прироста в качестве на валидации."
   ]
  },
  {
   "cell_type": "markdown",
   "metadata": {},
   "source": [
    "`Задание 2` <br>\n",
    "Сгруппировать данные по `card1` и посчитать среднюю сумму транзакции. Добавить в качестве признака в набор данных. Посчитать разницу между суммой транзакцией пользователя и средней суммой транзакции по данному типу `card1`. Построить отношение этих признаков. Повторить процедуру для всех `card`."
   ]
  },
  {
   "cell_type": "code",
   "execution_count": 12,
   "metadata": {},
   "outputs": [],
   "source": [
    "card_features = data.columns[data.columns.str.contains('card')]"
   ]
  },
  {
   "cell_type": "code",
   "execution_count": 13,
   "metadata": {},
   "outputs": [
    {
     "name": "stdout",
     "output_type": "stream",
     "text": [
      "card1 has NaNs: False\n",
      "card2 has NaNs: True\n",
      "card3 has NaNs: True\n",
      "card4 has NaNs: True\n",
      "card5 has NaNs: True\n",
      "card6 has NaNs: True\n"
     ]
    }
   ],
   "source": [
    "for feat in card_features:\n",
    "    print(f'{feat} has NaNs: {data[feat].isna().any()}')"
   ]
  },
  {
   "cell_type": "code",
   "execution_count": 14,
   "metadata": {},
   "outputs": [],
   "source": [
    "data.card2 = data.card2.fillna(data.card2.median())\n",
    "data.card3 = data.card3.fillna(data.card3.median())\n",
    "data.card4 = data.card4.fillna('unknown')\n",
    "data.card5 = data.card5.fillna(data.card5.median())\n",
    "data.card6 = data.card6.fillna('unknown')"
   ]
  },
  {
   "cell_type": "code",
   "execution_count": 15,
   "metadata": {},
   "outputs": [],
   "source": [
    "def get_mean_by_group(df: pd.DataFrame, by: str, col: str) -> pd.DataFrame:\n",
    "    mean_values = df.groupby(by).mean().reset_index()[[by, col]]\n",
    "    mean_values[col].fillna('mean', inplace=True)\n",
    "    mean_values.columns = [by, f'Mean{col}_{by}']\n",
    "    return mean_values"
   ]
  },
  {
   "cell_type": "code",
   "execution_count": 16,
   "metadata": {},
   "outputs": [],
   "source": [
    "for feat in card_features:\n",
    "    data = data.merge(get_mean_by_group(data, feat, 'TransactionAmt'), how='left', on=feat)"
   ]
  },
  {
   "cell_type": "code",
   "execution_count": 17,
   "metadata": {},
   "outputs": [],
   "source": [
    "new_card_features = data.columns[data.columns.str.contains('card')].drop(card_features)"
   ]
  },
  {
   "cell_type": "code",
   "execution_count": 18,
   "metadata": {},
   "outputs": [
    {
     "data": {
      "text/plain": [
       "Index(['MeanTransactionAmt_card1', 'MeanTransactionAmt_card2',\n",
       "       'MeanTransactionAmt_card3', 'MeanTransactionAmt_card4',\n",
       "       'MeanTransactionAmt_card5', 'MeanTransactionAmt_card6'],\n",
       "      dtype='object')"
      ]
     },
     "execution_count": 18,
     "metadata": {},
     "output_type": "execute_result"
    }
   ],
   "source": [
    "new_card_features"
   ]
  },
  {
   "cell_type": "code",
   "execution_count": 19,
   "metadata": {},
   "outputs": [],
   "source": [
    "def get_mean_ratio(df: pd.DataFrame, amt_col: str, mean_col: str) -> pd.Series:\n",
    "    return (data[amt_col] - data[mean_col]) / data[mean_col]"
   ]
  },
  {
   "cell_type": "code",
   "execution_count": 20,
   "metadata": {},
   "outputs": [],
   "source": [
    "for new_feat in new_card_features:\n",
    "    prefix = new_feat.split('_')[-1]\n",
    "    data[f'{prefix}_mean_diff_ratio'] = get_mean_ratio(data, 'TransactionAmt', new_feat)"
   ]
  },
  {
   "cell_type": "code",
   "execution_count": 21,
   "metadata": {},
   "outputs": [
    {
     "data": {
      "text/plain": [
       "['card1_mean_diff_ratio',\n",
       " 'card2_mean_diff_ratio',\n",
       " 'card3_mean_diff_ratio',\n",
       " 'card4_mean_diff_ratio',\n",
       " 'card5_mean_diff_ratio',\n",
       " 'card6_mean_diff_ratio']"
      ]
     },
     "execution_count": 21,
     "metadata": {},
     "output_type": "execute_result"
    }
   ],
   "source": [
    "data.columns[data.columns.str.contains('ratio')].tolist()"
   ]
  },
  {
   "cell_type": "code",
   "execution_count": 22,
   "metadata": {},
   "outputs": [
    {
     "data": {
      "text/plain": [
       "Index(['MeanTransactionAmt_card1', 'MeanTransactionAmt_card2',\n",
       "       'MeanTransactionAmt_card3', 'MeanTransactionAmt_card4',\n",
       "       'MeanTransactionAmt_card5', 'MeanTransactionAmt_card6'],\n",
       "      dtype='object')"
      ]
     },
     "execution_count": 22,
     "metadata": {},
     "output_type": "execute_result"
    }
   ],
   "source": [
    "new_card_features"
   ]
  },
  {
   "cell_type": "code",
   "execution_count": 23,
   "metadata": {},
   "outputs": [],
   "source": [
    "ex2 = numeric.tolist() + new_card_features.tolist() + data.columns[data.columns.str.contains('ratio')].tolist()"
   ]
  },
  {
   "cell_type": "code",
   "execution_count": 24,
   "metadata": {},
   "outputs": [
    {
     "name": "stdout",
     "output_type": "stream",
     "text": [
      "[15:58:35] WARNING: ../src/learner.cc:516: \n",
      "Parameters: { n_estimators } might not be used.\n",
      "\n",
      "  This may not be accurate due to some parameters are only used in language bindings but\n",
      "  passed down to XGBoost core.  Or some parameters are not used but slip through this\n",
      "  verification. Please open an issue if you find above cases.\n",
      "\n",
      "\n",
      "[0]\ttrain-auc:0.81640\tvalid-auc:0.79119\n",
      "Multiple eval metrics have been passed: 'valid-auc' will be used for early stopping.\n",
      "\n",
      "Will train until valid-auc hasn't improved in 20 rounds.\n",
      "[10]\ttrain-auc:0.84034\tvalid-auc:0.81723\n",
      "[20]\ttrain-auc:0.88073\tvalid-auc:0.86068\n",
      "[30]\ttrain-auc:0.92279\tvalid-auc:0.89444\n",
      "[40]\ttrain-auc:0.94634\tvalid-auc:0.90579\n",
      "[50]\ttrain-auc:0.95842\tvalid-auc:0.91122\n",
      "[60]\ttrain-auc:0.96600\tvalid-auc:0.91342\n",
      "[70]\ttrain-auc:0.97128\tvalid-auc:0.91711\n",
      "[80]\ttrain-auc:0.97604\tvalid-auc:0.92103\n",
      "[90]\ttrain-auc:0.97909\tvalid-auc:0.92353\n",
      "[100]\ttrain-auc:0.98239\tvalid-auc:0.92481\n",
      "[110]\ttrain-auc:0.98406\tvalid-auc:0.92578\n",
      "[120]\ttrain-auc:0.98578\tvalid-auc:0.92653\n",
      "[130]\ttrain-auc:0.98707\tvalid-auc:0.92692\n",
      "[140]\ttrain-auc:0.98914\tvalid-auc:0.92859\n",
      "[150]\ttrain-auc:0.99015\tvalid-auc:0.92962\n",
      "[160]\ttrain-auc:0.99104\tvalid-auc:0.92969\n",
      "Stopping. Best iteration:\n",
      "[148]\ttrain-auc:0.99004\tvalid-auc:0.92992\n",
      "\n"
     ]
    }
   ],
   "source": [
    "x_train, x_valid = train_test_split(data.drop([\"isFraud\"], axis=1), train_size=0.7, random_state=1)\n",
    "y_train, y_valid = train_test_split(data[\"isFraud\"], train_size=0.7, random_state=1)\n",
    "\n",
    "dtrain = xgb.DMatrix(x_train[ex2], y_train)\n",
    "dvalid = xgb.DMatrix(x_valid[ex2], y_valid)\n",
    "\n",
    "model = xgb.train(\n",
    "    dtrain=dtrain,\n",
    "    params=xgb_params,\n",
    "    num_boost_round=500,\n",
    "    evals=[(dtrain, \"train\"), (dvalid, \"valid\")],\n",
    "    early_stopping_rounds=20,\n",
    "    verbose_eval=10,\n",
    ")"
   ]
  },
  {
   "cell_type": "markdown",
   "metadata": {},
   "source": [
    "С данными признаками качество на валидации несколько повысилось."
   ]
  },
  {
   "cell_type": "markdown",
   "metadata": {},
   "source": [
    "`Задание 3` <br>\n",
    "Преобразовать признаки card_1 - card_6 с помощью Frequency Encoding"
   ]
  },
  {
   "cell_type": "code",
   "execution_count": 25,
   "metadata": {},
   "outputs": [],
   "source": [
    "for feat in card_features:\n",
    "    freq_encoder = data[feat].value_counts(normalize=True)\n",
    "    data[f'{feat}_freq_encoded'] = data[feat].map(freq_encoder)"
   ]
  },
  {
   "cell_type": "code",
   "execution_count": 26,
   "metadata": {},
   "outputs": [],
   "source": [
    "ex3 = numeric.tolist() + data.columns[data.columns.str.contains('encoded')].tolist()"
   ]
  },
  {
   "cell_type": "code",
   "execution_count": 27,
   "metadata": {},
   "outputs": [
    {
     "name": "stdout",
     "output_type": "stream",
     "text": [
      "[15:58:52] WARNING: ../src/learner.cc:516: \n",
      "Parameters: { n_estimators } might not be used.\n",
      "\n",
      "  This may not be accurate due to some parameters are only used in language bindings but\n",
      "  passed down to XGBoost core.  Or some parameters are not used but slip through this\n",
      "  verification. Please open an issue if you find above cases.\n",
      "\n",
      "\n",
      "[0]\ttrain-auc:0.81751\tvalid-auc:0.78861\n",
      "Multiple eval metrics have been passed: 'valid-auc' will be used for early stopping.\n",
      "\n",
      "Will train until valid-auc hasn't improved in 20 rounds.\n",
      "[10]\ttrain-auc:0.84051\tvalid-auc:0.81965\n",
      "[20]\ttrain-auc:0.88128\tvalid-auc:0.85841\n",
      "[30]\ttrain-auc:0.92014\tvalid-auc:0.88793\n",
      "[40]\ttrain-auc:0.94305\tvalid-auc:0.90328\n",
      "[50]\ttrain-auc:0.95593\tvalid-auc:0.90726\n",
      "[60]\ttrain-auc:0.96416\tvalid-auc:0.91054\n",
      "[70]\ttrain-auc:0.96959\tvalid-auc:0.91352\n",
      "[80]\ttrain-auc:0.97387\tvalid-auc:0.91662\n",
      "[90]\ttrain-auc:0.97674\tvalid-auc:0.91867\n",
      "[100]\ttrain-auc:0.97952\tvalid-auc:0.91995\n",
      "[110]\ttrain-auc:0.98196\tvalid-auc:0.92173\n",
      "[120]\ttrain-auc:0.98363\tvalid-auc:0.92300\n",
      "[130]\ttrain-auc:0.98522\tvalid-auc:0.92218\n",
      "[140]\ttrain-auc:0.98668\tvalid-auc:0.92296\n",
      "Stopping. Best iteration:\n",
      "[120]\ttrain-auc:0.98363\tvalid-auc:0.92300\n",
      "\n"
     ]
    }
   ],
   "source": [
    "x_train, x_valid = train_test_split(data.drop([\"isFraud\"], axis=1), train_size=0.7, random_state=1)\n",
    "y_train, y_valid = train_test_split(data[\"isFraud\"], train_size=0.7, random_state=1)\n",
    "\n",
    "dtrain = xgb.DMatrix(x_train[ex3], y_train)\n",
    "dvalid = xgb.DMatrix(x_valid[ex3], y_valid)\n",
    "\n",
    "model = xgb.train(\n",
    "    dtrain=dtrain,\n",
    "    params=xgb_params,\n",
    "    num_boost_round=500,\n",
    "    evals=[(dtrain, \"train\"), (dvalid, \"valid\")],\n",
    "    early_stopping_rounds=20,\n",
    "    verbose_eval=10,\n",
    ")"
   ]
  },
  {
   "cell_type": "markdown",
   "metadata": {},
   "source": [
    "Данные признаки не дали прироста в качестве."
   ]
  },
  {
   "cell_type": "markdown",
   "metadata": {},
   "source": [
    "`Задание 4` <br>\n",
    "Преобразовать признак TransactionAmt в логарифм признака, выделить дробную часть и целую часть в отдельные признаки."
   ]
  },
  {
   "cell_type": "code",
   "execution_count": 28,
   "metadata": {},
   "outputs": [],
   "source": [
    "data['LogTransactionAmt'] = np.log(data.TransactionAmt)"
   ]
  },
  {
   "cell_type": "code",
   "execution_count": 29,
   "metadata": {},
   "outputs": [],
   "source": [
    "data['LogFractionalTransactionAmt'], data['LogIntegralTransactionAmt']  = np.modf(data.LogTransactionAmt)"
   ]
  },
  {
   "cell_type": "code",
   "execution_count": 30,
   "metadata": {},
   "outputs": [],
   "source": [
    "ex4 = numeric.tolist() + ['LogTransactionAmt', 'LogFractionalTransactionAmt', 'LogIntegralTransactionAmt']"
   ]
  },
  {
   "cell_type": "code",
   "execution_count": 31,
   "metadata": {},
   "outputs": [
    {
     "name": "stdout",
     "output_type": "stream",
     "text": [
      "[15:59:06] WARNING: ../src/learner.cc:516: \n",
      "Parameters: { n_estimators } might not be used.\n",
      "\n",
      "  This may not be accurate due to some parameters are only used in language bindings but\n",
      "  passed down to XGBoost core.  Or some parameters are not used but slip through this\n",
      "  verification. Please open an issue if you find above cases.\n",
      "\n",
      "\n",
      "[0]\ttrain-auc:0.81297\tvalid-auc:0.78768\n",
      "Multiple eval metrics have been passed: 'valid-auc' will be used for early stopping.\n",
      "\n",
      "Will train until valid-auc hasn't improved in 20 rounds.\n",
      "[10]\ttrain-auc:0.84410\tvalid-auc:0.82207\n",
      "[20]\ttrain-auc:0.87620\tvalid-auc:0.85379\n",
      "[30]\ttrain-auc:0.91136\tvalid-auc:0.88692\n",
      "[40]\ttrain-auc:0.93490\tvalid-auc:0.89732\n",
      "[50]\ttrain-auc:0.95281\tvalid-auc:0.90526\n",
      "[60]\ttrain-auc:0.96000\tvalid-auc:0.90850\n",
      "[70]\ttrain-auc:0.96682\tvalid-auc:0.91288\n",
      "[80]\ttrain-auc:0.97055\tvalid-auc:0.91527\n",
      "[90]\ttrain-auc:0.97440\tvalid-auc:0.91706\n",
      "[100]\ttrain-auc:0.97757\tvalid-auc:0.91806\n",
      "[110]\ttrain-auc:0.97933\tvalid-auc:0.91993\n",
      "[120]\ttrain-auc:0.98132\tvalid-auc:0.92070\n",
      "[130]\ttrain-auc:0.98309\tvalid-auc:0.92087\n",
      "[140]\ttrain-auc:0.98501\tvalid-auc:0.92253\n",
      "[150]\ttrain-auc:0.98610\tvalid-auc:0.92290\n",
      "[160]\ttrain-auc:0.98770\tvalid-auc:0.92407\n",
      "[170]\ttrain-auc:0.98882\tvalid-auc:0.92474\n",
      "[180]\ttrain-auc:0.98980\tvalid-auc:0.92523\n",
      "[190]\ttrain-auc:0.99059\tvalid-auc:0.92517\n",
      "[200]\ttrain-auc:0.99132\tvalid-auc:0.92575\n",
      "[210]\ttrain-auc:0.99211\tvalid-auc:0.92586\n",
      "[220]\ttrain-auc:0.99281\tvalid-auc:0.92557\n",
      "[230]\ttrain-auc:0.99339\tvalid-auc:0.92578\n",
      "Stopping. Best iteration:\n",
      "[215]\ttrain-auc:0.99263\tvalid-auc:0.92616\n",
      "\n"
     ]
    }
   ],
   "source": [
    "x_train, x_valid = train_test_split(data.drop([\"isFraud\"], axis=1), train_size=0.7, random_state=1)\n",
    "y_train, y_valid = train_test_split(data[\"isFraud\"], train_size=0.7, random_state=1)\n",
    "\n",
    "dtrain = xgb.DMatrix(x_train[ex4], y_train)\n",
    "dvalid = xgb.DMatrix(x_valid[ex4], y_valid)\n",
    "\n",
    "model = xgb.train(\n",
    "    dtrain=dtrain,\n",
    "    params=xgb_params,\n",
    "    num_boost_round=500,\n",
    "    evals=[(dtrain, \"train\"), (dvalid, \"valid\")],\n",
    "    early_stopping_rounds=20,\n",
    "    verbose_eval=10,\n",
    ")"
   ]
  },
  {
   "cell_type": "markdown",
   "metadata": {},
   "source": [
    "Данные признаки не дали прироста."
   ]
  },
  {
   "cell_type": "markdown",
   "metadata": {},
   "source": [
    "`Задание 5` <br>\n",
    "Для числовых признаков построить PCA-признаки, добавить их к основной части датасета."
   ]
  },
  {
   "cell_type": "code",
   "execution_count": 32,
   "metadata": {},
   "outputs": [],
   "source": [
    "scaler = MinMaxScaler()"
   ]
  },
  {
   "cell_type": "code",
   "execution_count": 33,
   "metadata": {},
   "outputs": [],
   "source": [
    "numeric_data_rescaled = np.nan_to_num(scaler.fit_transform(data[numeric]))"
   ]
  },
  {
   "cell_type": "code",
   "execution_count": 34,
   "metadata": {},
   "outputs": [],
   "source": [
    "pca = PCA(n_components = 0.95)\n",
    "pca.fit(numeric_data_rescaled)\n",
    "reduced = pca.transform(numeric_data_rescaled)"
   ]
  },
  {
   "cell_type": "code",
   "execution_count": 35,
   "metadata": {},
   "outputs": [
    {
     "data": {
      "text/plain": [
       "(50001, 37)"
      ]
     },
     "execution_count": 35,
     "metadata": {},
     "output_type": "execute_result"
    }
   ],
   "source": [
    "reduced.shape"
   ]
  },
  {
   "cell_type": "code",
   "execution_count": 36,
   "metadata": {},
   "outputs": [],
   "source": [
    "pca_cols = [f'pca_comp_{i + 1}' for i in range(reduced.shape[1])]"
   ]
  },
  {
   "cell_type": "code",
   "execution_count": 37,
   "metadata": {},
   "outputs": [],
   "source": [
    "pca_feats = pd.DataFrame(reduced, columns=pca_cols)"
   ]
  },
  {
   "cell_type": "code",
   "execution_count": 38,
   "metadata": {},
   "outputs": [
    {
     "data": {
      "text/html": [
       "<div>\n",
       "<style scoped>\n",
       "    .dataframe tbody tr th:only-of-type {\n",
       "        vertical-align: middle;\n",
       "    }\n",
       "\n",
       "    .dataframe tbody tr th {\n",
       "        vertical-align: top;\n",
       "    }\n",
       "\n",
       "    .dataframe thead th {\n",
       "        text-align: right;\n",
       "    }\n",
       "</style>\n",
       "<table border=\"1\" class=\"dataframe\">\n",
       "  <thead>\n",
       "    <tr style=\"text-align: right;\">\n",
       "      <th></th>\n",
       "      <th>pca_comp_1</th>\n",
       "      <th>pca_comp_2</th>\n",
       "      <th>pca_comp_3</th>\n",
       "      <th>pca_comp_4</th>\n",
       "      <th>pca_comp_5</th>\n",
       "      <th>pca_comp_6</th>\n",
       "      <th>pca_comp_7</th>\n",
       "      <th>pca_comp_8</th>\n",
       "      <th>pca_comp_9</th>\n",
       "      <th>pca_comp_10</th>\n",
       "      <th>...</th>\n",
       "      <th>pca_comp_28</th>\n",
       "      <th>pca_comp_29</th>\n",
       "      <th>pca_comp_30</th>\n",
       "      <th>pca_comp_31</th>\n",
       "      <th>pca_comp_32</th>\n",
       "      <th>pca_comp_33</th>\n",
       "      <th>pca_comp_34</th>\n",
       "      <th>pca_comp_35</th>\n",
       "      <th>pca_comp_36</th>\n",
       "      <th>pca_comp_37</th>\n",
       "    </tr>\n",
       "  </thead>\n",
       "  <tbody>\n",
       "    <tr>\n",
       "      <th>0</th>\n",
       "      <td>-0.448290</td>\n",
       "      <td>0.118089</td>\n",
       "      <td>-0.829621</td>\n",
       "      <td>0.123170</td>\n",
       "      <td>-0.870317</td>\n",
       "      <td>0.316176</td>\n",
       "      <td>-0.159314</td>\n",
       "      <td>0.003322</td>\n",
       "      <td>0.354754</td>\n",
       "      <td>-0.210481</td>\n",
       "      <td>...</td>\n",
       "      <td>0.000266</td>\n",
       "      <td>-0.016541</td>\n",
       "      <td>-0.034675</td>\n",
       "      <td>-0.044837</td>\n",
       "      <td>0.047133</td>\n",
       "      <td>-0.030688</td>\n",
       "      <td>0.031893</td>\n",
       "      <td>0.003632</td>\n",
       "      <td>-0.139471</td>\n",
       "      <td>-0.015347</td>\n",
       "    </tr>\n",
       "    <tr>\n",
       "      <th>1</th>\n",
       "      <td>-0.429116</td>\n",
       "      <td>-0.477001</td>\n",
       "      <td>0.117416</td>\n",
       "      <td>-0.484874</td>\n",
       "      <td>-0.467635</td>\n",
       "      <td>-0.311322</td>\n",
       "      <td>0.347840</td>\n",
       "      <td>-0.004052</td>\n",
       "      <td>0.253741</td>\n",
       "      <td>-0.248502</td>\n",
       "      <td>...</td>\n",
       "      <td>0.015045</td>\n",
       "      <td>0.036552</td>\n",
       "      <td>0.009151</td>\n",
       "      <td>-0.000748</td>\n",
       "      <td>-0.010747</td>\n",
       "      <td>0.002280</td>\n",
       "      <td>-0.064831</td>\n",
       "      <td>0.010892</td>\n",
       "      <td>0.055379</td>\n",
       "      <td>0.069832</td>\n",
       "    </tr>\n",
       "    <tr>\n",
       "      <th>2</th>\n",
       "      <td>-1.001694</td>\n",
       "      <td>0.454697</td>\n",
       "      <td>-0.302933</td>\n",
       "      <td>0.084389</td>\n",
       "      <td>-0.655174</td>\n",
       "      <td>0.121912</td>\n",
       "      <td>0.559673</td>\n",
       "      <td>-0.301947</td>\n",
       "      <td>0.021730</td>\n",
       "      <td>-0.185675</td>\n",
       "      <td>...</td>\n",
       "      <td>-0.133241</td>\n",
       "      <td>-0.023098</td>\n",
       "      <td>-0.020894</td>\n",
       "      <td>0.009359</td>\n",
       "      <td>0.005069</td>\n",
       "      <td>-0.004293</td>\n",
       "      <td>0.028928</td>\n",
       "      <td>0.037079</td>\n",
       "      <td>-0.108385</td>\n",
       "      <td>-0.006223</td>\n",
       "    </tr>\n",
       "    <tr>\n",
       "      <th>3</th>\n",
       "      <td>-0.652390</td>\n",
       "      <td>-0.248912</td>\n",
       "      <td>0.033116</td>\n",
       "      <td>-0.525432</td>\n",
       "      <td>-0.270255</td>\n",
       "      <td>-0.488559</td>\n",
       "      <td>0.348090</td>\n",
       "      <td>-0.260415</td>\n",
       "      <td>0.841362</td>\n",
       "      <td>-0.150946</td>\n",
       "      <td>...</td>\n",
       "      <td>0.112022</td>\n",
       "      <td>0.611581</td>\n",
       "      <td>-0.000345</td>\n",
       "      <td>-0.300995</td>\n",
       "      <td>0.183946</td>\n",
       "      <td>0.125365</td>\n",
       "      <td>-0.277122</td>\n",
       "      <td>0.114593</td>\n",
       "      <td>-0.142233</td>\n",
       "      <td>-0.053720</td>\n",
       "    </tr>\n",
       "    <tr>\n",
       "      <th>4</th>\n",
       "      <td>1.978311</td>\n",
       "      <td>0.336832</td>\n",
       "      <td>-0.110268</td>\n",
       "      <td>-0.437020</td>\n",
       "      <td>-0.491395</td>\n",
       "      <td>0.153819</td>\n",
       "      <td>0.457403</td>\n",
       "      <td>-0.116508</td>\n",
       "      <td>0.394048</td>\n",
       "      <td>-0.157278</td>\n",
       "      <td>...</td>\n",
       "      <td>-0.009947</td>\n",
       "      <td>0.021506</td>\n",
       "      <td>0.046290</td>\n",
       "      <td>0.005213</td>\n",
       "      <td>0.014767</td>\n",
       "      <td>-0.042830</td>\n",
       "      <td>0.170834</td>\n",
       "      <td>0.074464</td>\n",
       "      <td>0.172753</td>\n",
       "      <td>-0.269234</td>\n",
       "    </tr>\n",
       "    <tr>\n",
       "      <th>...</th>\n",
       "      <td>...</td>\n",
       "      <td>...</td>\n",
       "      <td>...</td>\n",
       "      <td>...</td>\n",
       "      <td>...</td>\n",
       "      <td>...</td>\n",
       "      <td>...</td>\n",
       "      <td>...</td>\n",
       "      <td>...</td>\n",
       "      <td>...</td>\n",
       "      <td>...</td>\n",
       "      <td>...</td>\n",
       "      <td>...</td>\n",
       "      <td>...</td>\n",
       "      <td>...</td>\n",
       "      <td>...</td>\n",
       "      <td>...</td>\n",
       "      <td>...</td>\n",
       "      <td>...</td>\n",
       "      <td>...</td>\n",
       "      <td>...</td>\n",
       "    </tr>\n",
       "    <tr>\n",
       "      <th>49996</th>\n",
       "      <td>1.286510</td>\n",
       "      <td>-0.372167</td>\n",
       "      <td>-0.180067</td>\n",
       "      <td>0.908053</td>\n",
       "      <td>0.633950</td>\n",
       "      <td>-0.234030</td>\n",
       "      <td>-0.104473</td>\n",
       "      <td>-0.186752</td>\n",
       "      <td>0.153131</td>\n",
       "      <td>0.142003</td>\n",
       "      <td>...</td>\n",
       "      <td>0.008245</td>\n",
       "      <td>-0.005277</td>\n",
       "      <td>-0.041161</td>\n",
       "      <td>0.010978</td>\n",
       "      <td>0.026186</td>\n",
       "      <td>-0.012555</td>\n",
       "      <td>-0.009895</td>\n",
       "      <td>0.004034</td>\n",
       "      <td>0.001625</td>\n",
       "      <td>-0.018431</td>\n",
       "    </tr>\n",
       "    <tr>\n",
       "      <th>49997</th>\n",
       "      <td>-0.505236</td>\n",
       "      <td>-0.086761</td>\n",
       "      <td>0.453614</td>\n",
       "      <td>0.012628</td>\n",
       "      <td>0.386921</td>\n",
       "      <td>-0.556890</td>\n",
       "      <td>-0.355223</td>\n",
       "      <td>0.395926</td>\n",
       "      <td>-0.325108</td>\n",
       "      <td>0.078819</td>\n",
       "      <td>...</td>\n",
       "      <td>0.001752</td>\n",
       "      <td>0.017897</td>\n",
       "      <td>-0.010823</td>\n",
       "      <td>-0.021716</td>\n",
       "      <td>0.005462</td>\n",
       "      <td>-0.015317</td>\n",
       "      <td>0.094297</td>\n",
       "      <td>0.068122</td>\n",
       "      <td>-0.065191</td>\n",
       "      <td>-0.037271</td>\n",
       "    </tr>\n",
       "    <tr>\n",
       "      <th>49998</th>\n",
       "      <td>-0.334439</td>\n",
       "      <td>-0.752569</td>\n",
       "      <td>1.698128</td>\n",
       "      <td>0.448838</td>\n",
       "      <td>-0.217243</td>\n",
       "      <td>0.273553</td>\n",
       "      <td>-0.413614</td>\n",
       "      <td>-0.312511</td>\n",
       "      <td>0.168259</td>\n",
       "      <td>-0.584717</td>\n",
       "      <td>...</td>\n",
       "      <td>0.099804</td>\n",
       "      <td>-0.389674</td>\n",
       "      <td>-0.119595</td>\n",
       "      <td>0.341733</td>\n",
       "      <td>-0.079213</td>\n",
       "      <td>0.028512</td>\n",
       "      <td>0.024260</td>\n",
       "      <td>0.049768</td>\n",
       "      <td>0.127286</td>\n",
       "      <td>-0.151687</td>\n",
       "    </tr>\n",
       "    <tr>\n",
       "      <th>49999</th>\n",
       "      <td>1.277914</td>\n",
       "      <td>-0.460006</td>\n",
       "      <td>-0.124791</td>\n",
       "      <td>0.945504</td>\n",
       "      <td>0.426738</td>\n",
       "      <td>-0.148474</td>\n",
       "      <td>-0.136491</td>\n",
       "      <td>0.363417</td>\n",
       "      <td>0.203290</td>\n",
       "      <td>0.078346</td>\n",
       "      <td>...</td>\n",
       "      <td>-0.004364</td>\n",
       "      <td>-0.010176</td>\n",
       "      <td>-0.005409</td>\n",
       "      <td>0.012395</td>\n",
       "      <td>0.033515</td>\n",
       "      <td>-0.013624</td>\n",
       "      <td>-0.017233</td>\n",
       "      <td>-0.004300</td>\n",
       "      <td>0.000965</td>\n",
       "      <td>-0.031161</td>\n",
       "    </tr>\n",
       "    <tr>\n",
       "      <th>50000</th>\n",
       "      <td>-0.497459</td>\n",
       "      <td>-0.075686</td>\n",
       "      <td>0.464923</td>\n",
       "      <td>0.018053</td>\n",
       "      <td>0.422388</td>\n",
       "      <td>-0.543650</td>\n",
       "      <td>-0.361131</td>\n",
       "      <td>0.105072</td>\n",
       "      <td>-0.151071</td>\n",
       "      <td>0.227626</td>\n",
       "      <td>...</td>\n",
       "      <td>-0.000013</td>\n",
       "      <td>0.015646</td>\n",
       "      <td>0.000547</td>\n",
       "      <td>-0.021455</td>\n",
       "      <td>0.007665</td>\n",
       "      <td>-0.020280</td>\n",
       "      <td>0.096677</td>\n",
       "      <td>0.066482</td>\n",
       "      <td>-0.065689</td>\n",
       "      <td>-0.033646</td>\n",
       "    </tr>\n",
       "  </tbody>\n",
       "</table>\n",
       "<p>50001 rows × 37 columns</p>\n",
       "</div>"
      ],
      "text/plain": [
       "       pca_comp_1  pca_comp_2  pca_comp_3  pca_comp_4  pca_comp_5  pca_comp_6  \\\n",
       "0       -0.448290    0.118089   -0.829621    0.123170   -0.870317    0.316176   \n",
       "1       -0.429116   -0.477001    0.117416   -0.484874   -0.467635   -0.311322   \n",
       "2       -1.001694    0.454697   -0.302933    0.084389   -0.655174    0.121912   \n",
       "3       -0.652390   -0.248912    0.033116   -0.525432   -0.270255   -0.488559   \n",
       "4        1.978311    0.336832   -0.110268   -0.437020   -0.491395    0.153819   \n",
       "...           ...         ...         ...         ...         ...         ...   \n",
       "49996    1.286510   -0.372167   -0.180067    0.908053    0.633950   -0.234030   \n",
       "49997   -0.505236   -0.086761    0.453614    0.012628    0.386921   -0.556890   \n",
       "49998   -0.334439   -0.752569    1.698128    0.448838   -0.217243    0.273553   \n",
       "49999    1.277914   -0.460006   -0.124791    0.945504    0.426738   -0.148474   \n",
       "50000   -0.497459   -0.075686    0.464923    0.018053    0.422388   -0.543650   \n",
       "\n",
       "       pca_comp_7  pca_comp_8  pca_comp_9  pca_comp_10  ...  pca_comp_28  \\\n",
       "0       -0.159314    0.003322    0.354754    -0.210481  ...     0.000266   \n",
       "1        0.347840   -0.004052    0.253741    -0.248502  ...     0.015045   \n",
       "2        0.559673   -0.301947    0.021730    -0.185675  ...    -0.133241   \n",
       "3        0.348090   -0.260415    0.841362    -0.150946  ...     0.112022   \n",
       "4        0.457403   -0.116508    0.394048    -0.157278  ...    -0.009947   \n",
       "...           ...         ...         ...          ...  ...          ...   \n",
       "49996   -0.104473   -0.186752    0.153131     0.142003  ...     0.008245   \n",
       "49997   -0.355223    0.395926   -0.325108     0.078819  ...     0.001752   \n",
       "49998   -0.413614   -0.312511    0.168259    -0.584717  ...     0.099804   \n",
       "49999   -0.136491    0.363417    0.203290     0.078346  ...    -0.004364   \n",
       "50000   -0.361131    0.105072   -0.151071     0.227626  ...    -0.000013   \n",
       "\n",
       "       pca_comp_29  pca_comp_30  pca_comp_31  pca_comp_32  pca_comp_33  \\\n",
       "0        -0.016541    -0.034675    -0.044837     0.047133    -0.030688   \n",
       "1         0.036552     0.009151    -0.000748    -0.010747     0.002280   \n",
       "2        -0.023098    -0.020894     0.009359     0.005069    -0.004293   \n",
       "3         0.611581    -0.000345    -0.300995     0.183946     0.125365   \n",
       "4         0.021506     0.046290     0.005213     0.014767    -0.042830   \n",
       "...            ...          ...          ...          ...          ...   \n",
       "49996    -0.005277    -0.041161     0.010978     0.026186    -0.012555   \n",
       "49997     0.017897    -0.010823    -0.021716     0.005462    -0.015317   \n",
       "49998    -0.389674    -0.119595     0.341733    -0.079213     0.028512   \n",
       "49999    -0.010176    -0.005409     0.012395     0.033515    -0.013624   \n",
       "50000     0.015646     0.000547    -0.021455     0.007665    -0.020280   \n",
       "\n",
       "       pca_comp_34  pca_comp_35  pca_comp_36  pca_comp_37  \n",
       "0         0.031893     0.003632    -0.139471    -0.015347  \n",
       "1        -0.064831     0.010892     0.055379     0.069832  \n",
       "2         0.028928     0.037079    -0.108385    -0.006223  \n",
       "3        -0.277122     0.114593    -0.142233    -0.053720  \n",
       "4         0.170834     0.074464     0.172753    -0.269234  \n",
       "...            ...          ...          ...          ...  \n",
       "49996    -0.009895     0.004034     0.001625    -0.018431  \n",
       "49997     0.094297     0.068122    -0.065191    -0.037271  \n",
       "49998     0.024260     0.049768     0.127286    -0.151687  \n",
       "49999    -0.017233    -0.004300     0.000965    -0.031161  \n",
       "50000     0.096677     0.066482    -0.065689    -0.033646  \n",
       "\n",
       "[50001 rows x 37 columns]"
      ]
     },
     "execution_count": 38,
     "metadata": {},
     "output_type": "execute_result"
    }
   ],
   "source": [
    "pca_feats"
   ]
  },
  {
   "cell_type": "code",
   "execution_count": 39,
   "metadata": {},
   "outputs": [],
   "source": [
    "data = pd.concat([data, pca_feats], axis=1)"
   ]
  },
  {
   "cell_type": "code",
   "execution_count": 40,
   "metadata": {},
   "outputs": [],
   "source": [
    "ex5 = numeric.tolist() + pca_cols"
   ]
  },
  {
   "cell_type": "code",
   "execution_count": 41,
   "metadata": {},
   "outputs": [
    {
     "name": "stdout",
     "output_type": "stream",
     "text": [
      "[15:59:31] WARNING: ../src/learner.cc:516: \n",
      "Parameters: { n_estimators } might not be used.\n",
      "\n",
      "  This may not be accurate due to some parameters are only used in language bindings but\n",
      "  passed down to XGBoost core.  Or some parameters are not used but slip through this\n",
      "  verification. Please open an issue if you find above cases.\n",
      "\n",
      "\n",
      "[0]\ttrain-auc:0.81298\tvalid-auc:0.78763\n",
      "Multiple eval metrics have been passed: 'valid-auc' will be used for early stopping.\n",
      "\n",
      "Will train until valid-auc hasn't improved in 20 rounds.\n",
      "[10]\ttrain-auc:0.83991\tvalid-auc:0.82205\n",
      "[20]\ttrain-auc:0.87701\tvalid-auc:0.85791\n",
      "[30]\ttrain-auc:0.92089\tvalid-auc:0.88487\n",
      "[40]\ttrain-auc:0.94561\tvalid-auc:0.89301\n",
      "[50]\ttrain-auc:0.96105\tvalid-auc:0.89986\n",
      "[60]\ttrain-auc:0.96935\tvalid-auc:0.90561\n",
      "[70]\ttrain-auc:0.97450\tvalid-auc:0.90895\n",
      "[80]\ttrain-auc:0.97784\tvalid-auc:0.90975\n",
      "[90]\ttrain-auc:0.98156\tvalid-auc:0.91057\n",
      "[100]\ttrain-auc:0.98464\tvalid-auc:0.91116\n",
      "[110]\ttrain-auc:0.98750\tvalid-auc:0.91155\n",
      "[120]\ttrain-auc:0.99089\tvalid-auc:0.91270\n",
      "[130]\ttrain-auc:0.99226\tvalid-auc:0.91340\n",
      "[140]\ttrain-auc:0.99344\tvalid-auc:0.91346\n",
      "[150]\ttrain-auc:0.99513\tvalid-auc:0.91289\n",
      "Stopping. Best iteration:\n",
      "[135]\ttrain-auc:0.99282\tvalid-auc:0.91390\n",
      "\n"
     ]
    }
   ],
   "source": [
    "x_train, x_valid = train_test_split(data.drop([\"isFraud\"], axis=1), train_size=0.7, random_state=1)\n",
    "y_train, y_valid = train_test_split(data[\"isFraud\"], train_size=0.7, random_state=1)\n",
    "\n",
    "dtrain = xgb.DMatrix(x_train[ex5], y_train)\n",
    "dvalid = xgb.DMatrix(x_valid[ex5], y_valid)\n",
    "\n",
    "model = xgb.train(\n",
    "    dtrain=dtrain,\n",
    "    params=xgb_params,\n",
    "    num_boost_round=500,\n",
    "    evals=[(dtrain, \"train\"), (dvalid, \"valid\")],\n",
    "    early_stopping_rounds=20,\n",
    "    verbose_eval=10,\n",
    ")"
   ]
  },
  {
   "cell_type": "markdown",
   "metadata": {},
   "source": [
    "`Задание 6` \n",
    "Использовать критерий отбора признаков на основе перестановок для отбора признаков, которые положительно влияют на перформанс модели. Переобучить модель и сделать выводы о полученном качестве алгоритма."
   ]
  },
  {
   "cell_type": "code",
   "execution_count": 42,
   "metadata": {},
   "outputs": [],
   "source": [
    "ex6 = list(set(ex1 + ex2 + ex3 + ex4 + ex5))"
   ]
  },
  {
   "cell_type": "code",
   "execution_count": 43,
   "metadata": {},
   "outputs": [
    {
     "name": "stdout",
     "output_type": "stream",
     "text": [
      "[15:59:53] WARNING: ../src/learner.cc:516: \n",
      "Parameters: { n_estimators } might not be used.\n",
      "\n",
      "  This may not be accurate due to some parameters are only used in language bindings but\n",
      "  passed down to XGBoost core.  Or some parameters are not used but slip through this\n",
      "  verification. Please open an issue if you find above cases.\n",
      "\n",
      "\n",
      "[0]\ttrain-auc:0.82004\tvalid-auc:0.79440\n",
      "Multiple eval metrics have been passed: 'valid-auc' will be used for early stopping.\n",
      "\n",
      "Will train until valid-auc hasn't improved in 20 rounds.\n",
      "[10]\ttrain-auc:0.84685\tvalid-auc:0.82614\n",
      "[20]\ttrain-auc:0.88532\tvalid-auc:0.86362\n",
      "[30]\ttrain-auc:0.93008\tvalid-auc:0.89131\n",
      "[40]\ttrain-auc:0.95374\tvalid-auc:0.90056\n",
      "[50]\ttrain-auc:0.96983\tvalid-auc:0.90845\n",
      "[60]\ttrain-auc:0.97684\tvalid-auc:0.91223\n",
      "[70]\ttrain-auc:0.98099\tvalid-auc:0.91490\n",
      "[80]\ttrain-auc:0.98510\tvalid-auc:0.91599\n",
      "[90]\ttrain-auc:0.98717\tvalid-auc:0.91821\n",
      "[100]\ttrain-auc:0.98945\tvalid-auc:0.92021\n",
      "[110]\ttrain-auc:0.99217\tvalid-auc:0.92242\n",
      "[120]\ttrain-auc:0.99365\tvalid-auc:0.92147\n",
      "[130]\ttrain-auc:0.99478\tvalid-auc:0.92160\n",
      "Stopping. Best iteration:\n",
      "[114]\ttrain-auc:0.99256\tvalid-auc:0.92253\n",
      "\n"
     ]
    }
   ],
   "source": [
    "x_train, x_valid = train_test_split(data.drop([\"isFraud\"], axis=1), train_size=0.7, random_state=1)\n",
    "y_train, y_valid = train_test_split(data[\"isFraud\"], train_size=0.7, random_state=1)\n",
    "\n",
    "dtrain = xgb.DMatrix(x_train[ex6], y_train)\n",
    "dvalid = xgb.DMatrix(x_valid[ex6], y_valid)\n",
    "\n",
    "model = xgb.train(\n",
    "    dtrain=dtrain,\n",
    "    params=xgb_params,\n",
    "    num_boost_round=500,\n",
    "    evals=[(dtrain, \"train\"), (dvalid, \"valid\")],\n",
    "    early_stopping_rounds=20,\n",
    "    verbose_eval=10,\n",
    ")"
   ]
  },
  {
   "cell_type": "code",
   "execution_count": 44,
   "metadata": {},
   "outputs": [],
   "source": [
    "from xgboost import XGBClassifier"
   ]
  },
  {
   "cell_type": "code",
   "execution_count": 45,
   "metadata": {},
   "outputs": [],
   "source": [
    "xgbc = XGBClassifier(params=xgb_params,\n",
    "                     num_boost_round=500,\n",
    "                     early_stopping_rounds=20,\n",
    "                     verbose_eval=10)"
   ]
  },
  {
   "cell_type": "code",
   "execution_count": 46,
   "metadata": {},
   "outputs": [
    {
     "name": "stdout",
     "output_type": "stream",
     "text": [
      "[16:00:12] WARNING: ../src/learner.cc:516: \n",
      "Parameters: { early_stopping_rounds, num_boost_round, params, verbose_eval } might not be used.\n",
      "\n",
      "  This may not be accurate due to some parameters are only used in language bindings but\n",
      "  passed down to XGBoost core.  Or some parameters are not used but slip through this\n",
      "  verification. Please open an issue if you find above cases.\n",
      "\n",
      "\n"
     ]
    },
    {
     "data": {
      "text/plain": [
       "XGBClassifier(base_score=0.5, booster='gbtree', colsample_bylevel=1,\n",
       "              colsample_bynode=1, colsample_bytree=1, early_stopping_rounds=20,\n",
       "              gamma=0, gpu_id=-1, importance_type='gain',\n",
       "              interaction_constraints='', learning_rate=0.300000012,\n",
       "              max_delta_step=0, max_depth=6, min_child_weight=1, missing=nan,\n",
       "              monotone_constraints='()', n_estimators=100, n_jobs=0,\n",
       "              num_boost_round=500, num_parallel_tree=1,\n",
       "              params={'booster': 'gbtree', 'eval_metric': 'auc',\n",
       "                      'learning_rate': 0.1, 'n_estimators': 1000, 'nthread': 6,\n",
       "                      'objective': 'binary:logistic', 'seed': 27},\n",
       "              random_state=0, reg_alpha=0, reg_lambda=1, scale_pos_weight=1,\n",
       "              subsample=1, tree_method='exact', validate_parameters=1,\n",
       "              verbose_eval=10, verbosity=None)"
      ]
     },
     "execution_count": 46,
     "metadata": {},
     "output_type": "execute_result"
    }
   ],
   "source": [
    "xgbc.fit(x_train[ex6], y_train)"
   ]
  },
  {
   "cell_type": "code",
   "execution_count": 47,
   "metadata": {},
   "outputs": [
    {
     "name": "stdout",
     "output_type": "stream",
     "text": [
      "CPU times: user 4.12 s, sys: 1.14 s, total: 5.27 s\n",
      "Wall time: 2min 24s\n"
     ]
    }
   ],
   "source": [
    "%%time\n",
    "feature_importances = permutation_importance(xgbc, x_valid[ex6], y_valid, n_jobs=4, n_repeats=3, random_state=42)"
   ]
  },
  {
   "cell_type": "markdown",
   "metadata": {},
   "source": [
    "`The permutation importance is defined to be the difference between the baseline metric and metric from permutating the feature column.`"
   ]
  },
  {
   "cell_type": "code",
   "execution_count": 61,
   "metadata": {},
   "outputs": [],
   "source": [
    "importance_indices = np.where((feature_importances.importances_mean) > 0)"
   ]
  },
  {
   "cell_type": "code",
   "execution_count": 62,
   "metadata": {},
   "outputs": [
    {
     "data": {
      "text/plain": [
       "array([3.11090372e-04, 2.22207408e-05, 2.22207408e-05, 1.33324445e-04,\n",
       "       1.11103704e-04, 2.22207408e-05, 4.44414817e-05, 3.11090372e-04,\n",
       "       2.22207408e-05, 1.11103704e-04, 8.66608893e-04, 1.77765927e-04,\n",
       "       3.77752594e-04, 1.42212741e-03, 1.99986668e-04, 2.88869631e-04,\n",
       "       1.33324445e-04, 2.66648890e-04, 3.55531853e-04, 6.66622225e-05,\n",
       "       1.77765927e-04, 1.33324445e-04, 2.22207408e-05, 4.44414817e-05,\n",
       "       4.44414817e-05, 6.66622225e-05, 8.88829634e-05, 4.44414817e-05,\n",
       "       1.22214075e-03, 6.66622225e-05, 6.66622225e-05, 1.11103704e-04,\n",
       "       8.88829634e-05, 1.55545186e-04, 1.73321779e-03, 2.22207408e-05,\n",
       "       8.88829634e-04, 4.44414817e-04, 6.66622225e-05, 6.66622225e-05,\n",
       "       6.66622225e-05, 1.55545186e-04, 2.22207408e-04, 8.88829634e-05,\n",
       "       2.22207408e-05, 1.77765927e-04, 2.22207408e-05, 4.44414817e-05,\n",
       "       4.44414817e-05, 6.66622225e-04, 1.33324445e-04, 2.22207408e-04,\n",
       "       2.22207408e-05, 1.11103704e-04, 1.11103704e-04, 2.22207408e-05,\n",
       "       1.55545186e-04, 2.22207408e-05, 6.66622225e-05, 1.33324445e-04,\n",
       "       8.88829634e-05, 3.11090372e-04, 1.11103704e-04, 6.66622225e-05,\n",
       "       7.33284448e-04, 2.44428149e-04, 2.22207408e-05, 2.22207408e-05,\n",
       "       1.11103704e-04, 1.51101038e-03, 1.99986668e-04, 3.11090372e-04,\n",
       "       1.55545186e-04, 1.11103704e-04, 2.66648890e-04, 6.66622225e-05,\n",
       "       2.22207408e-05, 6.44401484e-04, 6.66622225e-05, 7.11063707e-04,\n",
       "       2.22207408e-05, 8.88829634e-05, 4.44414817e-05, 8.88829634e-05,\n",
       "       1.11103704e-04, 4.44414817e-05, 3.55531853e-04, 6.66622225e-05,\n",
       "       4.44414817e-05, 1.55545186e-04, 2.44428149e-04, 1.11103704e-04,\n",
       "       2.22207408e-05, 6.66622225e-05, 6.66622225e-05, 1.77765927e-04])"
      ]
     },
     "execution_count": 62,
     "metadata": {},
     "output_type": "execute_result"
    }
   ],
   "source": [
    "feature_importances.importances_mean[importance_indices]"
   ]
  },
  {
   "cell_type": "code",
   "execution_count": 63,
   "metadata": {},
   "outputs": [],
   "source": [
    "import matplotlib.pyplot as plt\n",
    "import seaborn as sns"
   ]
  },
  {
   "cell_type": "code",
   "execution_count": 64,
   "metadata": {},
   "outputs": [
    {
     "data": {
      "image/png": "[encoded data removed]",
      "text/plain": [
       "<Figure size 1584x1440 with 1 Axes>"
      ]
     },
     "metadata": {
      "needs_background": "light"
     },
     "output_type": "display_data"
    }
   ],
   "source": [
    "fig, ax = plt.subplots(1, figsize=(22, 20))\n",
    "g = sns.barplot(x=feature_importances.importances_mean[importance_indices], y=data[ex6].columns[importance_indices])"
   ]
  },
  {
   "cell_type": "code",
   "execution_count": 52,
   "metadata": {},
   "outputs": [
    {
     "name": "stdout",
     "output_type": "stream",
     "text": [
      "[16:02:53] WARNING: ../src/learner.cc:516: \n",
      "Parameters: { n_estimators } might not be used.\n",
      "\n",
      "  This may not be accurate due to some parameters are only used in language bindings but\n",
      "  passed down to XGBoost core.  Or some parameters are not used but slip through this\n",
      "  verification. Please open an issue if you find above cases.\n",
      "\n",
      "\n",
      "[0]\ttrain-auc:0.81364\tvalid-auc:0.78587\n",
      "Multiple eval metrics have been passed: 'valid-auc' will be used for early stopping.\n",
      "\n",
      "Will train until valid-auc hasn't improved in 20 rounds.\n",
      "[10]\ttrain-auc:0.84990\tvalid-auc:0.82630\n",
      "[20]\ttrain-auc:0.88324\tvalid-auc:0.86317\n",
      "[30]\ttrain-auc:0.92595\tvalid-auc:0.88809\n",
      "[40]\ttrain-auc:0.94911\tvalid-auc:0.89944\n",
      "[50]\ttrain-auc:0.96184\tvalid-auc:0.90301\n",
      "[60]\ttrain-auc:0.97071\tvalid-auc:0.90942\n",
      "[70]\ttrain-auc:0.97555\tvalid-auc:0.91201\n",
      "[80]\ttrain-auc:0.97997\tvalid-auc:0.91301\n",
      "[90]\ttrain-auc:0.98343\tvalid-auc:0.91265\n",
      "[100]\ttrain-auc:0.98700\tvalid-auc:0.91383\n",
      "[110]\ttrain-auc:0.98966\tvalid-auc:0.91446\n",
      "[120]\ttrain-auc:0.99154\tvalid-auc:0.91481\n",
      "[130]\ttrain-auc:0.99315\tvalid-auc:0.91517\n",
      "[140]\ttrain-auc:0.99443\tvalid-auc:0.91531\n",
      "[150]\ttrain-auc:0.99570\tvalid-auc:0.91384\n",
      "Stopping. Best iteration:\n",
      "[138]\ttrain-auc:0.99423\tvalid-auc:0.91550\n",
      "\n"
     ]
    }
   ],
   "source": [
    "x_train, x_valid = train_test_split(data.drop([\"isFraud\"], axis=1), train_size=0.7, random_state=1)\n",
    "y_train, y_valid = train_test_split(data[\"isFraud\"], train_size=0.7, random_state=1)\n",
    "\n",
    "dtrain = xgb.DMatrix(x_train[data[ex6].columns[importance_indices]], y_train)\n",
    "dvalid = xgb.DMatrix(x_valid[data[ex6].columns[importance_indices]], y_valid)\n",
    "\n",
    "model = xgb.train(\n",
    "    dtrain=dtrain,\n",
    "    params=xgb_params,\n",
    "    num_boost_round=500,\n",
    "    evals=[(dtrain, \"train\"), (dvalid, \"valid\")],\n",
    "    early_stopping_rounds=20,\n",
    "    verbose_eval=10,\n",
    ")"
   ]
  },
  {
   "cell_type": "code",
   "execution_count": 53,
   "metadata": {},
   "outputs": [],
   "source": [
    "importance_indices = np.where(feature_importances.importances_mean >= 0)"
   ]
  },
  {
   "cell_type": "code",
   "execution_count": 54,
   "metadata": {},
   "outputs": [
    {
     "name": "stdout",
     "output_type": "stream",
     "text": [
      "[16:03:02] WARNING: ../src/learner.cc:516: \n",
      "Parameters: { n_estimators } might not be used.\n",
      "\n",
      "  This may not be accurate due to some parameters are only used in language bindings but\n",
      "  passed down to XGBoost core.  Or some parameters are not used but slip through this\n",
      "  verification. Please open an issue if you find above cases.\n",
      "\n",
      "\n",
      "[0]\ttrain-auc:0.81363\tvalid-auc:0.78576\n",
      "Multiple eval metrics have been passed: 'valid-auc' will be used for early stopping.\n",
      "\n",
      "Will train until valid-auc hasn't improved in 20 rounds.\n",
      "[10]\ttrain-auc:0.84530\tvalid-auc:0.83100\n",
      "[20]\ttrain-auc:0.88217\tvalid-auc:0.86387\n",
      "[30]\ttrain-auc:0.92703\tvalid-auc:0.89219\n",
      "[40]\ttrain-auc:0.95335\tvalid-auc:0.90251\n",
      "[50]\ttrain-auc:0.96774\tvalid-auc:0.90787\n",
      "[60]\ttrain-auc:0.97432\tvalid-auc:0.91100\n",
      "[70]\ttrain-auc:0.97875\tvalid-auc:0.91436\n",
      "[80]\ttrain-auc:0.98250\tvalid-auc:0.91445\n",
      "[90]\ttrain-auc:0.98609\tvalid-auc:0.91551\n",
      "[100]\ttrain-auc:0.98870\tvalid-auc:0.91592\n",
      "[110]\ttrain-auc:0.99062\tvalid-auc:0.91585\n",
      "[120]\ttrain-auc:0.99245\tvalid-auc:0.91621\n",
      "[130]\ttrain-auc:0.99360\tvalid-auc:0.91671\n",
      "Stopping. Best iteration:\n",
      "[113]\ttrain-auc:0.99113\tvalid-auc:0.91672\n",
      "\n"
     ]
    }
   ],
   "source": [
    "x_train, x_valid = train_test_split(data.drop([\"isFraud\"], axis=1), train_size=0.7, random_state=1)\n",
    "y_train, y_valid = train_test_split(data[\"isFraud\"], train_size=0.7, random_state=1)\n",
    "\n",
    "dtrain = xgb.DMatrix(x_train[data[ex6].columns[importance_indices]], y_train)\n",
    "dvalid = xgb.DMatrix(x_valid[data[ex6].columns[importance_indices]], y_valid)\n",
    "\n",
    "model = xgb.train(\n",
    "    dtrain=dtrain,\n",
    "    params=xgb_params,\n",
    "    num_boost_round=500,\n",
    "    evals=[(dtrain, \"train\"), (dvalid, \"valid\")],\n",
    "    early_stopping_rounds=20,\n",
    "    verbose_eval=10,\n",
    ")"
   ]
  },
  {
   "cell_type": "code",
   "execution_count": null,
   "metadata": {},
   "outputs": [],
   "source": []
  }
 ],
 "metadata": {
  "kernelspec": {
   "display_name": "Python 3",
   "language": "python",
   "name": "python3"
  },
  "language_info": {
   "codemirror_mode": {
    "name": "ipython",
    "version": 3
   },
   "file_extension": ".py",
   "mimetype": "text/x-python",
   "name": "python",
   "nbconvert_exporter": "python",
   "pygments_lexer": "ipython3",
   "version": "3.7.6"
  }
 },
 "nbformat": 4,
 "nbformat_minor": 4
}
